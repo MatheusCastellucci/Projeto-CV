{
 "cells": [
  {
   "cell_type": "code",
   "execution_count": 4,
   "metadata": {},
   "outputs": [],
   "source": [
    "# Importação das bibliotecas\n",
    "import cv2\n",
    "import matplotlib.pyplot as plt\n",
    "import easyocr"
   ]
  },
  {
   "cell_type": "code",
   "execution_count": 5,
   "metadata": {},
   "outputs": [],
   "source": [
    "# Carregamento da imagem\n",
    "#image_path = 'FFVI\\\\Dialog\\\\options.jpg'\n",
    "image_path = 'FFVI\\\\Dialog\\\\textbox_with_img.png'\n",
    "image = cv2.imread(image_path)\n",
    "image_rgb = cv2.cvtColor(image, cv2.COLOR_BGR2RGB)\n",
    "\n",
    "# Template matching para localizar a seta\n",
    "template_path = 'FFVI\\\\Dialog\\\\pointer.jpg'\n",
    "template = cv2.imread(template_path, 0)"
   ]
  },
  {
   "cell_type": "code",
   "execution_count": 6,
   "id": "41bdbb84",
   "metadata": {},
   "outputs": [
    {
     "data": {
      "image/png": "[encoded data removed]",
      "text/plain": [
       "<Figure size 640x480 with 1 Axes>"
      ]
     },
     "metadata": {},
     "output_type": "display_data"
    },
    {
     "name": "stderr",
     "output_type": "stream",
     "text": [
      "Neither CUDA nor MPS are available - defaulting to CPU. Note: This module is much faster with a GPU.\n"
     ]
    }
   ],
   "source": [
    "res = cv2.matchTemplate(cv2.cvtColor(image, cv2.COLOR_BGR2GRAY), template, cv2.TM_CCOEFF_NORMED)\n",
    "min_val, max_val, min_loc, max_loc = cv2.minMaxLoc(res)\n",
    "\n",
    "# Salvar as coordenadas da seta\n",
    "top_left = max_loc\n",
    "h, w = template.shape   \n",
    "bottom_right = (top_left[0] + w, top_left[1] + h)\n",
    "\n",
    "# Definir a área de recorte com base nas coordenadas da seta\n",
    "offset_x = 0  # Ajustar conforme necessário\n",
    "offset_y = 0  # Ajustar conforme necessário\n",
    "width = 150    # Ajustar conforme necessário\n",
    "height = 90   # Ajustar conforme necessário\n",
    "\n",
    "crop_top_left = (top_left[0] + offset_x, top_left[1] + offset_y)\n",
    "crop_bottom_right = (crop_top_left[0] + width, crop_top_left[1] + height)\n",
    "\n",
    "# Recortar a área das opções\n",
    "cropped_options = image[crop_top_left[1]:crop_bottom_right[1], crop_top_left[0]:crop_bottom_right[0]]\n",
    "\n",
    "# Exibir a imagem recortada\n",
    "plt.imshow(cv2.cvtColor(cropped_options, cv2.COLOR_BGR2RGB))\n",
    "plt.axis('off')\n",
    "plt.title('Opções Recortadas')\n",
    "plt.show()\n",
    "\n",
    "# Aplicar OCR na imagem recortada das opções\n",
    "reader = easyocr.Reader(['pt'])\n",
    "result = reader.readtext(cropped_options)\n",
    "\n",
    "# Imprimir os resultados\n",
    "for (bbox, text, prob) in result:\n",
    "    print(f'Texto: {text}, Confiança: {prob}')\n"
   ]
  },
  {
   "cell_type": "code",
   "execution_count": 7,
   "metadata": {},
   "outputs": [],
   "source": [
    "def options_cutscene(image_path, offset_x=0, offset_y=0, width=150, height=90):\n",
    "    # Load the images\n",
    "    image = cv2.imread(image_path)\n",
    "    template_path = 'FFVI\\\\Dialog\\\\pointer.jpg'\n",
    "    template = cv2.imread(template_path, 0)\n",
    "    \n",
    "    # Template matching to find the arrow\n",
    "    res = cv2.matchTemplate(cv2.cvtColor(image, cv2.COLOR_BGR2GRAY), template, cv2.TM_CCOEFF_NORMED)\n",
    "    min_val, max_val, min_loc, max_loc = cv2.minMaxLoc(res)\n",
    "    \n",
    "    # Coordinates of the matched area\n",
    "    top_left = max_loc\n",
    "    h, w = template.shape\n",
    "    bottom_right = (top_left[0] + w, top_left[1] + h)\n",
    "    \n",
    "    # Define the cropping area based on the arrow coordinates\n",
    "    crop_top_left = (top_left[0] + offset_x, top_left[1] + offset_y)\n",
    "    crop_bottom_right = (crop_top_left[0] + width, crop_top_left[1] + height)\n",
    "    \n",
    "    # Crop the options area\n",
    "    cropped_options = image[crop_top_left[1]:crop_bottom_right[1], crop_top_left[0]:crop_bottom_right[0]]\n",
    "    \n",
    "    # Apply OCR on the cropped image\n",
    "    reader = easyocr.Reader(['pt'])\n",
    "    result = reader.readtext(cropped_options)\n",
    "    \n",
    "    # Extract the text from the result\n",
    "    extracted_text = [text for (bbox, text, prob) in result]\n",
    "    \n",
    "    return extracted_text\n"
   ]
  },
  {
   "cell_type": "code",
   "execution_count": 10,
   "metadata": {},
   "outputs": [
    {
     "name": "stderr",
     "output_type": "stream",
     "text": [
      "Neither CUDA nor MPS are available - defaulting to CPU. Note: This module is much faster with a GPU.\n"
     ]
    },
    {
     "name": "stdout",
     "output_type": "stream",
     "text": [
      "[]\n"
     ]
    }
   ],
   "source": [
    "image_path = 'FFVI\\\\Dialog\\\\textbox_with_img.png'\n",
    "text_list = extract_text_from_image(image_path)\n",
    "print(text_list)"
   ]
  },
  {
   "cell_type": "code",
   "execution_count": null,
   "metadata": {},
   "outputs": [],
   "source": []
  }
 ],
 "metadata": {
  "kernelspec": {
   "display_name": "venv",
   "language": "python",
   "name": "python3"
  },
  "language_info": {
   "codemirror_mode": {
    "name": "ipython",
    "version": 3
   },
   "file_extension": ".py",
   "mimetype": "text/x-python",
   "name": "python",
   "nbconvert_exporter": "python",
   "pygments_lexer": "ipython3",
   "version": "3.12.3"
  }
 },
 "nbformat": 4,
 "nbformat_minor": 2
}
