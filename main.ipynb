{
 "cells": [
  {
   "cell_type": "markdown",
   "metadata": {},
   "source": [
    "Imports"
   ]
  },
  {
   "cell_type": "code",
   "execution_count": 1,
   "metadata": {},
   "outputs": [],
   "source": [
    "import sys\n",
    "import os\n",
    "\n",
    "scripts_path = os.path.abspath('scripts')\n",
    "if scripts_path not in sys.path:\n",
    "    sys.path.append(scripts_path)\n",
    "\n",
    "from functions import *\n",
    "from findPath import path_detection"
   ]
  },
  {
   "cell_type": "markdown",
   "metadata": {},
   "source": [
    "Definir que o easyocr sera o leitor utilizado para ler os textos"
   ]
  },
  {
   "cell_type": "code",
   "execution_count": 2,
   "metadata": {},
   "outputs": [
    {
     "name": "stderr",
     "output_type": "stream",
     "text": [
      "Neither CUDA nor MPS are available - defaulting to CPU. Note: This module is much faster with a GPU.\n"
     ]
    }
   ],
   "source": [
    "reader = easyocr.Reader(['en'])"
   ]
  },
  {
   "cell_type": "markdown",
   "metadata": {},
   "source": [
    "Função que recebe a imagem e retorna diferentes dados baseado no tipo de situação que a imagem representa. \n",
    "* Combate = ataques\n",
    "* Dialogo = texto e opções\n",
    "* Mapa = espaço andavel"
   ]
  },
  {
   "cell_type": "code",
   "execution_count": 3,
   "metadata": {},
   "outputs": [],
   "source": [
    "def funcao_global(image):\n",
    "    if identificar_texto(image,reader): #verifica se tem algum texto na imgem, para verificar se se trata de um mapa ou de um cmobate/cutscene\n",
    "        combate,opcoes_combate = identificar_combate(image,reader)\n",
    "        if combate:#se for combate\n",
    "            return opcoes_combate #retorna lista com opcoes de combate\n",
    "        else: #se for cutscene\n",
    "            return options_cutscene(image,reader) #retorna lista com yes,no ou vazia\n",
    "    else: #se for mapa\n",
    "        return path_detection(image) #retorna o mapa com o caminho desenhado no formato de matrix, tendo o chão valor 0.\n",
    "    \n"
   ]
  },
  {
   "cell_type": "markdown",
   "metadata": {},
   "source": [
    "Dicionario com diferentes imagens para textes"
   ]
  },
  {
   "cell_type": "code",
   "execution_count": 10,
   "metadata": {},
   "outputs": [
    {
     "data": {
      "text/plain": [
       "['Preemptive attack',\n",
       " '7fire',\n",
       " 'Beam',\n",
       " 'Bolt',\n",
       " 'Beam',\n",
       " 'Ice',\n",
       " 'Beam',\n",
       " 'Bi o',\n",
       " 'Blast',\n",
       " 'Heal',\n",
       " 'Force',\n",
       " 'Confuser',\n",
       " 'x-fer',\n",
       " 'TekMissile']"
      ]
     },
     "execution_count": 10,
     "metadata": {},
     "output_type": "execute_result"
    }
   ],
   "source": [
    "dicionario = {\n",
    "    'combat1': 'FFVI\\\\Combat\\\\combate.jpg',\n",
    "    'combat2': 'FFVI\\\\Combat\\\\combate2.jpg',\n",
    "    'combat3': 'FFVI\\\\Combat\\\\combate3.jpg',\n",
    "    'cutscene1': 'FFVI\\\\Dialog\\\\options.jpg',\n",
    "    'cutscene2': 'FFVI\\\\Dialog\\\\textbox_with_img.png',\n",
    "    'cutscene3': 'FFVI\\\\Dialog\\\\texto_baixo.png',\n",
    "    'map1': 'FFVI\\\\Maps\\\\azysla.jpg',\n",
    "    'map2': 'FFVI\\\\Maps\\\\planicie.jpg',\n",
    "\n",
    "}\n",
    "choice = 'combat2'\n",
    "imagem = dicionario[choice]\n",
    "funcao_global(imagem)"
   ]
  }
 ],
 "metadata": {
  "kernelspec": {
   "display_name": "venv",
   "language": "python",
   "name": "python3"
  },
  "language_info": {
   "codemirror_mode": {
    "name": "ipython",
    "version": 3
   },
   "file_extension": ".py",
   "mimetype": "text/x-python",
   "name": "python",
   "nbconvert_exporter": "python",
   "pygments_lexer": "ipython3",
   "version": "3.12.3"
  }
 },
 "nbformat": 4,
 "nbformat_minor": 2
}
